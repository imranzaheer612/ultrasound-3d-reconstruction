{
  "cells": [
    {
      "cell_type": "code",
      "execution_count": 8,
      "metadata": {
        "colab": {
          "base_uri": "https://localhost:8080/"
        },
        "id": "8XI_VN6oL8Kj",
        "outputId": "2c937072-cc71-4fe1-d977-1c36277460da"
      },
      "outputs": [],
      "source": [
        "from pydicom import dcmread\n",
        "#from pydicom.data import get_testdata_file"
      ]
    },
    {
      "cell_type": "code",
      "execution_count": 9,
      "metadata": {
        "colab": {
          "base_uri": "https://localhost:8080/"
        },
        "id": "nvYlNGrvYfhd",
        "outputId": "ccf32324-190d-4926-88a4-ad9031636b84"
      },
      "outputs": [],
      "source": [
        "file = open(\"Data\\CTHead2.dcm\", \"rb\") #open dicom file\n",
        "file.seek(-8192,2)\n",
        "file.seek(0)\n",
        "byte = file.read(1410) #read bytes corresponding to header\n",
        "f = open(\"Data\\dummy_header.dcm\", \"wb\") #open a file to dump the read bytes\n",
        "f.write(byte) # write the read bytes\n",
        "f.close()\n",
        "#while byte:"
      ]
    },
    {
      "cell_type": "code",
      "execution_count": 10,
      "metadata": {},
      "outputs": [],
      "source": [
        "from PIL import Image\n",
        "import os\n",
        "import pydicom\n",
        "from pydicom.uid import ExplicitVRLittleEndian\n",
        "import pydicom._storage_sopclass_uids\n",
        "import numpy as np\n",
        "from matplotlib import image\n",
        "from matplotlib import pyplot\n",
        "import time\n"
      ]
    },
    {
      "cell_type": "code",
      "execution_count": 11,
      "metadata": {},
      "outputs": [],
      "source": [
        "def SetCommonFields(ds):\n",
        "    meta = ds.file_meta\n",
        "    meta.TransferSyntaxUID = pydicom.uid.ExplicitVRLittleEndian  \n",
        "    ds.is_little_endian = True\n",
        "    ds.is_implicit_VR = False\n",
        "    ds.Modality = \"CT\"\n",
        "    ds.BitsStored = 8\n",
        "    ds.BitsAllocated = 8\n",
        "    ds.SamplesPerPixel = 1\n",
        "    ds.HighBit = 7\n",
        "    ds.ImagesInAcquisition = \"1\"\n",
        "    ds.InstanceNumber = 1\n",
        "    ds.ImagePositionPatient = [0.000, 0.000, 0.000]#r\"0\\0\\1\"\n",
        "    ds.RescaleIntercept = \"0\"\n",
        "    ds.RescaleSlope = \"1\"\n",
        "    ds.PixelSpacing = r\"3.2\\3.2\"\n",
        "    ds.PhotometricInterpretation = \"MONOCHROME2\"\n",
        "    ds.InstanceNumber = 0\n",
        "    ds.SliceThickness = 2.0"
      ]
    },
    {
      "cell_type": "code",
      "execution_count": 12,
      "metadata": {
        "id": "yORHFC50JKZj"
      },
      "outputs": [],
      "source": [
        "fpath = \"Data\\CTHead2.dcm\"\n",
        "ds = dcmread(fpath)\n",
        "directory = \"Data\\Input\"\n",
        "if not os.path.isdir('Data\\EightBitOut'):\n",
        "    os.mkdir('Data\\EightBitOut')\n",
        "save_path = 'Data\\EightBitOut'\n",
        "if not os.path.isdir('Data\\DcmOut'):\n",
        "    os.mkdir('Data\\DcmOut')\n",
        "out_dicom_path = 'Data\\DcmOut'\n",
        "num = 1\n",
        "pos = 0.00\n",
        "for filename in os.listdir(directory):\n",
        "    in_name = os.path.join(directory, filename)\n",
        "    out_name = os.path.join(save_path, filename)\n",
        "    img = Image.open(in_name)\n",
        "    newimg = img.convert(mode='L', colors=8)\n",
        "    newimg.save(out_name)\n",
        "SetCommonFields(ds)\n",
        "time.sleep(1)\n",
        "for filename in os.listdir(save_path):\n",
        "    image_path = os.path.join(save_path, filename)\n",
        "    image_arr = image.imread(image_path)\n",
        "    image2d = image_arr.astype(np.uint8)   \n",
        "    ds.InstanceNumber += num\n",
        "    ds.ImagePositionPatient = [0, pos, pos]\n",
        "    ds.PixelData = image2d.tobytes()\n",
        "    ds.Rows = image2d.shape[0]\n",
        "    ds.Columns = image2d.shape[1]\n",
        "    name_dcm = str(os.path.join(out_dicom_path, filename))+\".dcm\"\n",
        "    ds.save_as(name_dcm)\n",
        "    pos += 2.00"
      ]
    }
  ],
  "metadata": {
    "colab": {
      "collapsed_sections": [],
      "name": "Copy of Dummy_Header_to_BMP.ipynb",
      "provenance": []
    },
    "kernelspec": {
      "display_name": "Python 3",
      "name": "python3"
    },
    "language_info": {
      "codemirror_mode": {
        "name": "ipython",
        "version": 3
      },
      "file_extension": ".py",
      "mimetype": "text/x-python",
      "name": "python",
      "nbconvert_exporter": "python",
      "pygments_lexer": "ipython3",
      "version": "3.10.0"
    }
  },
  "nbformat": 4,
  "nbformat_minor": 0
}
